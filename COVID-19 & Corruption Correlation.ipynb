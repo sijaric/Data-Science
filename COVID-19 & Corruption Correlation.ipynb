{
 "cells": [
  {
   "cell_type": "markdown",
   "metadata": {},
   "source": [
    "# DSUA-111 Project: \n",
    "# Lower COVID-19 rates in more corrupt countries?\n",
    "\n",
    "Maya (Maida) Sjaric"
   ]
  },
  {
   "cell_type": "code",
   "execution_count": 8,
   "metadata": {},
   "outputs": [],
   "source": [
    "import pandas as pd\n",
    "import numpy as np\n",
    "import matplotlib.pyplot"
   ]
  },
  {
   "cell_type": "markdown",
   "metadata": {},
   "source": [
    "# Part 1: Pre-Step\n",
    "\n",
    "**Q1:** Describe briefly the question you would like to answer or the topic you would like to explore. Essentially, what do you hope to learn from your analysis?"
   ]
  },
  {
   "cell_type": "markdown",
   "metadata": {},
   "source": [
    "In this quantitative account, an attempt will be made to establish an understanding of the interplay between perceived corruption and the impact of COVID-19 in any given country. More specifically, and perhaps more elegantly put, we will begin to formulate a neuanced answer to the following question: \n",
    "\n",
    "#### **Can we predict a country's total cases per million, on the basis of information about their perceptions of corruption?** \n",
    "\n",
    "The product of this analysis can potentially establish a more robust foundation upon which other post-modern intellectual pursuits can develop, in our shared effort to untangle the knotty significance of socio-political indicators on a country's ability to mitigate public health crises. At the outset of the COVID-19 pandemic, the country of Iran was one of the most harshly affected nations in the world, and received enormous international attention. One of the questions that some of Iran's spectators and citizens were concerned with, in the context of its high number of COVID-19 cases, was the effects of political distrust on the virus' rate of spread. This particular investigation might help shed some light on the possible association between corruption and pandemic outcomes. Deeper philosophical exlorations, sadly, lie beyond the scope of this study."
   ]
  },
  {
   "cell_type": "markdown",
   "metadata": {},
   "source": [
    "# Part 2: Data"
   ]
  },
  {
   "cell_type": "markdown",
   "metadata": {},
   "source": [
    "**Q2:** Find a dataset that may help you explore at least some of these questions. First, describe where you found the data set. Second, describe how you found it. Third, describe at least two variables in the dataset that are relevant to the analysis you described above. Finally, describe the unit of observation (individual, city, etc.)."
   ]
  },
  {
   "cell_type": "markdown",
   "metadata": {},
   "source": [
    "Two datasets were combined into one for this analytical purpose.\n",
    "\n",
    "### COVID-19 Dataset: \n",
    "\n",
    "The dataset containing statistics concerning the impact of COVID-19 for each of the available countries was found on **Our World in Data**'s webpage (https://ourworldindata.org/coronavirus-source-data). After a persistent effort to understand the available literature through Google, this dataset emerged as the most promising, comprehensive and relevant account of the matter. For reference, \"covid 19 stats csv\" was the phrase that led to my discovery of this dataset through Google. Other search engines, including github and kaggle, were also considered, but this dataset appeared most appropriate for the purposes of this study.\n",
    "\n",
    "- **Variable of Interest (1):** interpretation of the chosen variable **'total_cases_per_million'** is largely unreliant on a consideration of subjectivity; it simply reflects the known aggregate number of COVID-19 cases per million for each country. This column was deliberately selected as the most appropriate variable, due to the fact that columns containing total cases and total deaths, for instance, might fail to capture the dynamic internal factors that influence a country's ability to mitigate the detrimental effect of public health crises. For this reason, the 'total_cases_per_million' column appears to be a more genuine reflection of the ability of a country to lessen the negative effects of pandemics on its population. It follows logically that a large country is likely to have more cases, but if these cases represent a smaller portion of their population, then these numbers might be misleading. Likewise, deaths might not reflect the consequences of a country's ability to control the spread of disease factors as precisely, due to the likelihood that the country's health care system would play an integral role in death numbers. Other columns were often incomplete or reflective of a short time-frame etc., which leaves us with 'total_cases_per_million' as the most ideal variable to study.\n",
    "\n",
    "### Corruption Dataset:\n",
    "\n",
    "The second dataset containing the available countries' \"Perceptions of corruption\" score was found on https://www.kaggle.com/unsdsn/world-happiness, and the year 2018 was chosen for the latter dataset. It data originally stems from the The Gallup World Poll. Likewise, other datasets, both within and beyond the kaggle environment, were also considered, but this dataset appeared to be most appropriate for this study.\n",
    "\n",
    "- **Variable of Interest (2):** the column **\"Perceptions of corruption\"** relates to the goals established in part 1, namely, to better understand the impact of corruption on pandemic outcomes. The values in this column range from 0.0 (indicates that people perceive great corruption) to 0.453 (indicates lower levels of perceived corruption). The Gallup World Poll describes this variable as \"the average of binary answers to two GWP questions: “Is corruption widespread throughout the government or not?” and “Is corruption widespread within businesses or not?”\" Note that where data for government corruption were missing, the perception of business corruption was used as the overall corruption-perception measure.\n",
    "\n",
    "**Unit of Observation:** All the countries for which both COVID-19 and \"Perceived corruption\" data was within our reach. In total, we have 144 countries at our disposal, as indicated by the output of the 'shape' method on the final_table (the ultimate table that we end up with, after adjusting the datasets to suit our goals, i.e. the 8th table containing all the relevant columns from our two datasets.)\n",
    "\n",
    "As will become evident momentarily, multiple operations are required to make these available datasets useful in this analysis."
   ]
  },
  {
   "cell_type": "markdown",
   "metadata": {},
   "source": [
    "**Q3:** If you could change this dataset in one way to make it better for your analysis, what would that change be and how could it improve your analysis?"
   ]
  },
  {
   "cell_type": "markdown",
   "metadata": {},
   "source": [
    "A separation of the \"Perceptions of corruption\" data into business- and politically-related corruption would have allowed us to better understand possible solutions to the issue of high total_cases_per_million values, should we observe a compelling association between the two chosen variables. It would be useful to know whether political corruption or business-related corruption more substantively contribute to health outcomes.\n",
    "\n",
    "Additionally, an incorporation of a more diverse set of factors, such as expert opinions, into the corruption score could potentially serve to more accurately represent the country's corruption status and it could potentially strengthen our ability to made predictions on its basis."
   ]
  },
  {
   "cell_type": "markdown",
   "metadata": {},
   "source": [
    "**Q4:** Import the dataset into Jupyter using any method you like and show the first five observations. If you had to do any pre-work to get the data into an uploadable format please describe it briefly. (If you didn’t, please say so as well.)"
   ]
  },
  {
   "cell_type": "markdown",
   "metadata": {},
   "source": [
    "The need to sort and delete certain columns and rows in our two datasets was already alluded to above. Essentially, observations that were available in one dataset but not in the other dataset were deleted; this process was done for each dataset. Columns that are not relevant to the question of our concern were also deleted in both tables. Additionally, the \"index\" column was changed in one of the tables (in order to allow for the transfer of one column into the other, i.e. to avoid index mismatch). The two tables were also sorted by the respective country columns, in order to ensure that the data would match later on when we combine the most relevant columns in the final step."
   ]
  },
  {
   "cell_type": "code",
   "execution_count": 9,
   "metadata": {},
   "outputs": [],
   "source": [
    "import pandas as pd\n",
    "import numpy as np\n",
    "import matplotlib.pyplot "
   ]
  },
  {
   "cell_type": "markdown",
   "metadata": {},
   "source": [
    "**Table (1) Perceived Corruption:**\n",
    "\n",
    "This table contains information concerning 8 socio-political indicators for 156 countries, as indicated in the output of the .shape() method. The indicators that will be of interest to us is contained in the **'Perceptions of corruption'** column: \n"
   ]
  },
  {
   "cell_type": "code",
   "execution_count": 10,
   "metadata": {},
   "outputs": [
    {
     "data": {
      "text/html": [
       "<div>\n",
       "<style scoped>\n",
       "    .dataframe tbody tr th:only-of-type {\n",
       "        vertical-align: middle;\n",
       "    }\n",
       "\n",
       "    .dataframe tbody tr th {\n",
       "        vertical-align: top;\n",
       "    }\n",
       "\n",
       "    .dataframe thead th {\n",
       "        text-align: right;\n",
       "    }\n",
       "</style>\n",
       "<table border=\"1\" class=\"dataframe\">\n",
       "  <thead>\n",
       "    <tr style=\"text-align: right;\">\n",
       "      <th></th>\n",
       "      <th>Overall rank</th>\n",
       "      <th>Country or region</th>\n",
       "      <th>Score</th>\n",
       "      <th>GDP per capita</th>\n",
       "      <th>Social support</th>\n",
       "      <th>Healthy life expectancy</th>\n",
       "      <th>Freedom to make life choices</th>\n",
       "      <th>Generosity</th>\n",
       "      <th>Perceptions of corruption</th>\n",
       "    </tr>\n",
       "  </thead>\n",
       "  <tbody>\n",
       "    <tr>\n",
       "      <th>0</th>\n",
       "      <td>1</td>\n",
       "      <td>Finland</td>\n",
       "      <td>7.769</td>\n",
       "      <td>1.340</td>\n",
       "      <td>1.587</td>\n",
       "      <td>0.986</td>\n",
       "      <td>0.596</td>\n",
       "      <td>0.153</td>\n",
       "      <td>0.393</td>\n",
       "    </tr>\n",
       "    <tr>\n",
       "      <th>1</th>\n",
       "      <td>2</td>\n",
       "      <td>Denmark</td>\n",
       "      <td>7.600</td>\n",
       "      <td>1.383</td>\n",
       "      <td>1.573</td>\n",
       "      <td>0.996</td>\n",
       "      <td>0.592</td>\n",
       "      <td>0.252</td>\n",
       "      <td>0.410</td>\n",
       "    </tr>\n",
       "    <tr>\n",
       "      <th>2</th>\n",
       "      <td>3</td>\n",
       "      <td>Norway</td>\n",
       "      <td>7.554</td>\n",
       "      <td>1.488</td>\n",
       "      <td>1.582</td>\n",
       "      <td>1.028</td>\n",
       "      <td>0.603</td>\n",
       "      <td>0.271</td>\n",
       "      <td>0.341</td>\n",
       "    </tr>\n",
       "    <tr>\n",
       "      <th>3</th>\n",
       "      <td>4</td>\n",
       "      <td>Iceland</td>\n",
       "      <td>7.494</td>\n",
       "      <td>1.380</td>\n",
       "      <td>1.624</td>\n",
       "      <td>1.026</td>\n",
       "      <td>0.591</td>\n",
       "      <td>0.354</td>\n",
       "      <td>0.118</td>\n",
       "    </tr>\n",
       "    <tr>\n",
       "      <th>4</th>\n",
       "      <td>5</td>\n",
       "      <td>Netherlands</td>\n",
       "      <td>7.488</td>\n",
       "      <td>1.396</td>\n",
       "      <td>1.522</td>\n",
       "      <td>0.999</td>\n",
       "      <td>0.557</td>\n",
       "      <td>0.322</td>\n",
       "      <td>0.298</td>\n",
       "    </tr>\n",
       "  </tbody>\n",
       "</table>\n",
       "</div>"
      ],
      "text/plain": [
       "   Overall rank Country or region  Score  GDP per capita  Social support  \\\n",
       "0             1           Finland  7.769           1.340           1.587   \n",
       "1             2           Denmark  7.600           1.383           1.573   \n",
       "2             3            Norway  7.554           1.488           1.582   \n",
       "3             4           Iceland  7.494           1.380           1.624   \n",
       "4             5       Netherlands  7.488           1.396           1.522   \n",
       "\n",
       "   Healthy life expectancy  Freedom to make life choices  Generosity  \\\n",
       "0                    0.986                         0.596       0.153   \n",
       "1                    0.996                         0.592       0.252   \n",
       "2                    1.028                         0.603       0.271   \n",
       "3                    1.026                         0.591       0.354   \n",
       "4                    0.999                         0.557       0.322   \n",
       "\n",
       "   Perceptions of corruption  \n",
       "0                      0.393  \n",
       "1                      0.410  \n",
       "2                      0.341  \n",
       "3                      0.118  \n",
       "4                      0.298  "
      ]
     },
     "execution_count": 10,
     "metadata": {},
     "output_type": "execute_result"
    }
   ],
   "source": [
    "corruption = pd.read_csv(\"corruption.csv\")\n",
    "corruption.head(5)"
   ]
  },
  {
   "cell_type": "code",
   "execution_count": 11,
   "metadata": {},
   "outputs": [
    {
     "data": {
      "text/plain": [
       "(156, 9)"
      ]
     },
     "execution_count": 11,
     "metadata": {},
     "output_type": "execute_result"
    }
   ],
   "source": [
    "np.shape(corruption)"
   ]
  },
  {
   "cell_type": "markdown",
   "metadata": {},
   "source": [
    "**Table (2) COVID-19:**\n",
    "\n",
    "This table contains 15756 observations concerning the prevalence of COVID-19 around the world. The variable that is of interest to us is the **'total_cases_per_million'** column: "
   ]
  },
  {
   "cell_type": "code",
   "execution_count": 12,
   "metadata": {},
   "outputs": [
    {
     "data": {
      "text/html": [
       "<div>\n",
       "<style scoped>\n",
       "    .dataframe tbody tr th:only-of-type {\n",
       "        vertical-align: middle;\n",
       "    }\n",
       "\n",
       "    .dataframe tbody tr th {\n",
       "        vertical-align: top;\n",
       "    }\n",
       "\n",
       "    .dataframe thead th {\n",
       "        text-align: right;\n",
       "    }\n",
       "</style>\n",
       "<table border=\"1\" class=\"dataframe\">\n",
       "  <thead>\n",
       "    <tr style=\"text-align: right;\">\n",
       "      <th></th>\n",
       "      <th>iso_code</th>\n",
       "      <th>location</th>\n",
       "      <th>date</th>\n",
       "      <th>total_cases</th>\n",
       "      <th>new_cases</th>\n",
       "      <th>total_deaths</th>\n",
       "      <th>new_deaths</th>\n",
       "      <th>total_cases_per_million</th>\n",
       "      <th>new_cases_per_million</th>\n",
       "      <th>total_deaths_per_million</th>\n",
       "      <th>new_deaths_per_million</th>\n",
       "      <th>total_tests</th>\n",
       "      <th>new_tests</th>\n",
       "      <th>total_tests_per_thousand</th>\n",
       "      <th>new_tests_per_thousand</th>\n",
       "      <th>tests_units</th>\n",
       "    </tr>\n",
       "  </thead>\n",
       "  <tbody>\n",
       "    <tr>\n",
       "      <th>0</th>\n",
       "      <td>ABW</td>\n",
       "      <td>Aruba</td>\n",
       "      <td>2020-03-13</td>\n",
       "      <td>2</td>\n",
       "      <td>2</td>\n",
       "      <td>0</td>\n",
       "      <td>0</td>\n",
       "      <td>18.733</td>\n",
       "      <td>18.733</td>\n",
       "      <td>0.0</td>\n",
       "      <td>0.0</td>\n",
       "      <td>NaN</td>\n",
       "      <td>NaN</td>\n",
       "      <td>NaN</td>\n",
       "      <td>NaN</td>\n",
       "      <td>NaN</td>\n",
       "    </tr>\n",
       "    <tr>\n",
       "      <th>1</th>\n",
       "      <td>ABW</td>\n",
       "      <td>Aruba</td>\n",
       "      <td>2020-03-20</td>\n",
       "      <td>4</td>\n",
       "      <td>2</td>\n",
       "      <td>0</td>\n",
       "      <td>0</td>\n",
       "      <td>37.465</td>\n",
       "      <td>18.733</td>\n",
       "      <td>0.0</td>\n",
       "      <td>0.0</td>\n",
       "      <td>NaN</td>\n",
       "      <td>NaN</td>\n",
       "      <td>NaN</td>\n",
       "      <td>NaN</td>\n",
       "      <td>NaN</td>\n",
       "    </tr>\n",
       "    <tr>\n",
       "      <th>2</th>\n",
       "      <td>ABW</td>\n",
       "      <td>Aruba</td>\n",
       "      <td>2020-03-24</td>\n",
       "      <td>12</td>\n",
       "      <td>8</td>\n",
       "      <td>0</td>\n",
       "      <td>0</td>\n",
       "      <td>112.395</td>\n",
       "      <td>74.930</td>\n",
       "      <td>0.0</td>\n",
       "      <td>0.0</td>\n",
       "      <td>NaN</td>\n",
       "      <td>NaN</td>\n",
       "      <td>NaN</td>\n",
       "      <td>NaN</td>\n",
       "      <td>NaN</td>\n",
       "    </tr>\n",
       "    <tr>\n",
       "      <th>3</th>\n",
       "      <td>ABW</td>\n",
       "      <td>Aruba</td>\n",
       "      <td>2020-03-25</td>\n",
       "      <td>17</td>\n",
       "      <td>5</td>\n",
       "      <td>0</td>\n",
       "      <td>0</td>\n",
       "      <td>159.227</td>\n",
       "      <td>46.831</td>\n",
       "      <td>0.0</td>\n",
       "      <td>0.0</td>\n",
       "      <td>NaN</td>\n",
       "      <td>NaN</td>\n",
       "      <td>NaN</td>\n",
       "      <td>NaN</td>\n",
       "      <td>NaN</td>\n",
       "    </tr>\n",
       "    <tr>\n",
       "      <th>4</th>\n",
       "      <td>ABW</td>\n",
       "      <td>Aruba</td>\n",
       "      <td>2020-03-26</td>\n",
       "      <td>19</td>\n",
       "      <td>2</td>\n",
       "      <td>0</td>\n",
       "      <td>0</td>\n",
       "      <td>177.959</td>\n",
       "      <td>18.733</td>\n",
       "      <td>0.0</td>\n",
       "      <td>0.0</td>\n",
       "      <td>NaN</td>\n",
       "      <td>NaN</td>\n",
       "      <td>NaN</td>\n",
       "      <td>NaN</td>\n",
       "      <td>NaN</td>\n",
       "    </tr>\n",
       "  </tbody>\n",
       "</table>\n",
       "</div>"
      ],
      "text/plain": [
       "  iso_code location        date  total_cases  new_cases  total_deaths  \\\n",
       "0      ABW    Aruba  2020-03-13            2          2             0   \n",
       "1      ABW    Aruba  2020-03-20            4          2             0   \n",
       "2      ABW    Aruba  2020-03-24           12          8             0   \n",
       "3      ABW    Aruba  2020-03-25           17          5             0   \n",
       "4      ABW    Aruba  2020-03-26           19          2             0   \n",
       "\n",
       "   new_deaths  total_cases_per_million  new_cases_per_million  \\\n",
       "0           0                   18.733                 18.733   \n",
       "1           0                   37.465                 18.733   \n",
       "2           0                  112.395                 74.930   \n",
       "3           0                  159.227                 46.831   \n",
       "4           0                  177.959                 18.733   \n",
       "\n",
       "   total_deaths_per_million  new_deaths_per_million  total_tests  new_tests  \\\n",
       "0                       0.0                     0.0          NaN        NaN   \n",
       "1                       0.0                     0.0          NaN        NaN   \n",
       "2                       0.0                     0.0          NaN        NaN   \n",
       "3                       0.0                     0.0          NaN        NaN   \n",
       "4                       0.0                     0.0          NaN        NaN   \n",
       "\n",
       "   total_tests_per_thousand  new_tests_per_thousand tests_units  \n",
       "0                       NaN                     NaN         NaN  \n",
       "1                       NaN                     NaN         NaN  \n",
       "2                       NaN                     NaN         NaN  \n",
       "3                       NaN                     NaN         NaN  \n",
       "4                       NaN                     NaN         NaN  "
      ]
     },
     "execution_count": 12,
     "metadata": {},
     "output_type": "execute_result"
    }
   ],
   "source": [
    "covid = pd.read_csv(\"covid.csv\")\n",
    "covid.head(5)"
   ]
  },
  {
   "cell_type": "code",
   "execution_count": 13,
   "metadata": {},
   "outputs": [
    {
     "data": {
      "text/plain": [
       "(15756, 16)"
      ]
     },
     "execution_count": 13,
     "metadata": {},
     "output_type": "execute_result"
    }
   ],
   "source": [
    "np.shape(covid)"
   ]
  },
  {
   "cell_type": "markdown",
   "metadata": {},
   "source": [
    "## Hold on...\n",
    "Before we can proceed with the analysis, **we need to ensure that only countries ('observations') that are represented in both datasets are used in our analysis (in equal proportions, and in the right order!)**. Therefore, we first apply the .loc() method to remove any countries in the covid dataset that are not included in the 'Country or region' column in the corruption dataset. \n",
    "\n",
    "**reduced_covid (3) Table:**"
   ]
  },
  {
   "cell_type": "code",
   "execution_count": 14,
   "metadata": {},
   "outputs": [],
   "source": [
    "countries = corruption['Country or region']"
   ]
  },
  {
   "cell_type": "code",
   "execution_count": 15,
   "metadata": {},
   "outputs": [
    {
     "data": {
      "text/html": [
       "<div>\n",
       "<style scoped>\n",
       "    .dataframe tbody tr th:only-of-type {\n",
       "        vertical-align: middle;\n",
       "    }\n",
       "\n",
       "    .dataframe tbody tr th {\n",
       "        vertical-align: top;\n",
       "    }\n",
       "\n",
       "    .dataframe thead th {\n",
       "        text-align: right;\n",
       "    }\n",
       "</style>\n",
       "<table border=\"1\" class=\"dataframe\">\n",
       "  <thead>\n",
       "    <tr style=\"text-align: right;\">\n",
       "      <th></th>\n",
       "      <th>iso_code</th>\n",
       "      <th>location</th>\n",
       "      <th>date</th>\n",
       "      <th>total_cases</th>\n",
       "      <th>new_cases</th>\n",
       "      <th>total_deaths</th>\n",
       "      <th>new_deaths</th>\n",
       "      <th>total_cases_per_million</th>\n",
       "      <th>new_cases_per_million</th>\n",
       "      <th>total_deaths_per_million</th>\n",
       "      <th>new_deaths_per_million</th>\n",
       "      <th>total_tests</th>\n",
       "      <th>new_tests</th>\n",
       "      <th>total_tests_per_thousand</th>\n",
       "      <th>new_tests_per_thousand</th>\n",
       "      <th>tests_units</th>\n",
       "    </tr>\n",
       "  </thead>\n",
       "  <tbody>\n",
       "    <tr>\n",
       "      <th>46</th>\n",
       "      <td>AFG</td>\n",
       "      <td>Afghanistan</td>\n",
       "      <td>2019-12-31</td>\n",
       "      <td>0</td>\n",
       "      <td>0</td>\n",
       "      <td>0</td>\n",
       "      <td>0</td>\n",
       "      <td>0.0</td>\n",
       "      <td>0.0</td>\n",
       "      <td>0.0</td>\n",
       "      <td>0.0</td>\n",
       "      <td>NaN</td>\n",
       "      <td>NaN</td>\n",
       "      <td>NaN</td>\n",
       "      <td>NaN</td>\n",
       "      <td>NaN</td>\n",
       "    </tr>\n",
       "    <tr>\n",
       "      <th>47</th>\n",
       "      <td>AFG</td>\n",
       "      <td>Afghanistan</td>\n",
       "      <td>2020-01-01</td>\n",
       "      <td>0</td>\n",
       "      <td>0</td>\n",
       "      <td>0</td>\n",
       "      <td>0</td>\n",
       "      <td>0.0</td>\n",
       "      <td>0.0</td>\n",
       "      <td>0.0</td>\n",
       "      <td>0.0</td>\n",
       "      <td>NaN</td>\n",
       "      <td>NaN</td>\n",
       "      <td>NaN</td>\n",
       "      <td>NaN</td>\n",
       "      <td>NaN</td>\n",
       "    </tr>\n",
       "    <tr>\n",
       "      <th>48</th>\n",
       "      <td>AFG</td>\n",
       "      <td>Afghanistan</td>\n",
       "      <td>2020-01-02</td>\n",
       "      <td>0</td>\n",
       "      <td>0</td>\n",
       "      <td>0</td>\n",
       "      <td>0</td>\n",
       "      <td>0.0</td>\n",
       "      <td>0.0</td>\n",
       "      <td>0.0</td>\n",
       "      <td>0.0</td>\n",
       "      <td>NaN</td>\n",
       "      <td>NaN</td>\n",
       "      <td>NaN</td>\n",
       "      <td>NaN</td>\n",
       "      <td>NaN</td>\n",
       "    </tr>\n",
       "    <tr>\n",
       "      <th>49</th>\n",
       "      <td>AFG</td>\n",
       "      <td>Afghanistan</td>\n",
       "      <td>2020-01-03</td>\n",
       "      <td>0</td>\n",
       "      <td>0</td>\n",
       "      <td>0</td>\n",
       "      <td>0</td>\n",
       "      <td>0.0</td>\n",
       "      <td>0.0</td>\n",
       "      <td>0.0</td>\n",
       "      <td>0.0</td>\n",
       "      <td>NaN</td>\n",
       "      <td>NaN</td>\n",
       "      <td>NaN</td>\n",
       "      <td>NaN</td>\n",
       "      <td>NaN</td>\n",
       "    </tr>\n",
       "    <tr>\n",
       "      <th>50</th>\n",
       "      <td>AFG</td>\n",
       "      <td>Afghanistan</td>\n",
       "      <td>2020-01-04</td>\n",
       "      <td>0</td>\n",
       "      <td>0</td>\n",
       "      <td>0</td>\n",
       "      <td>0</td>\n",
       "      <td>0.0</td>\n",
       "      <td>0.0</td>\n",
       "      <td>0.0</td>\n",
       "      <td>0.0</td>\n",
       "      <td>NaN</td>\n",
       "      <td>NaN</td>\n",
       "      <td>NaN</td>\n",
       "      <td>NaN</td>\n",
       "      <td>NaN</td>\n",
       "    </tr>\n",
       "  </tbody>\n",
       "</table>\n",
       "</div>"
      ],
      "text/plain": [
       "   iso_code     location        date  total_cases  new_cases  total_deaths  \\\n",
       "46      AFG  Afghanistan  2019-12-31            0          0             0   \n",
       "47      AFG  Afghanistan  2020-01-01            0          0             0   \n",
       "48      AFG  Afghanistan  2020-01-02            0          0             0   \n",
       "49      AFG  Afghanistan  2020-01-03            0          0             0   \n",
       "50      AFG  Afghanistan  2020-01-04            0          0             0   \n",
       "\n",
       "    new_deaths  total_cases_per_million  new_cases_per_million  \\\n",
       "46           0                      0.0                    0.0   \n",
       "47           0                      0.0                    0.0   \n",
       "48           0                      0.0                    0.0   \n",
       "49           0                      0.0                    0.0   \n",
       "50           0                      0.0                    0.0   \n",
       "\n",
       "    total_deaths_per_million  new_deaths_per_million  total_tests  new_tests  \\\n",
       "46                       0.0                     0.0          NaN        NaN   \n",
       "47                       0.0                     0.0          NaN        NaN   \n",
       "48                       0.0                     0.0          NaN        NaN   \n",
       "49                       0.0                     0.0          NaN        NaN   \n",
       "50                       0.0                     0.0          NaN        NaN   \n",
       "\n",
       "    total_tests_per_thousand  new_tests_per_thousand tests_units  \n",
       "46                       NaN                     NaN         NaN  \n",
       "47                       NaN                     NaN         NaN  \n",
       "48                       NaN                     NaN         NaN  \n",
       "49                       NaN                     NaN         NaN  \n",
       "50                       NaN                     NaN         NaN  "
      ]
     },
     "execution_count": 15,
     "metadata": {},
     "output_type": "execute_result"
    }
   ],
   "source": [
    "reduced_covid = covid.loc[covid['location'].isin(countries)]\n",
    "reduced_covid.head()"
   ]
  },
  {
   "cell_type": "markdown",
   "metadata": {},
   "source": [
    "**reduced_covid_april_28 (4) Table:**\n",
    "\n",
    "Next, we eliminate all entries in the reduced_covid table whose \"date\" do not correspond to the randomly selected date '2020-04-28'. The main purpose of this is to limit each country's representation to just one row (observation). "
   ]
  },
  {
   "cell_type": "code",
   "execution_count": 16,
   "metadata": {},
   "outputs": [],
   "source": [
    "covid_april_28 = [\"2020-04-28\"]"
   ]
  },
  {
   "cell_type": "code",
   "execution_count": 17,
   "metadata": {},
   "outputs": [
    {
     "data": {
      "text/html": [
       "<div>\n",
       "<style scoped>\n",
       "    .dataframe tbody tr th:only-of-type {\n",
       "        vertical-align: middle;\n",
       "    }\n",
       "\n",
       "    .dataframe tbody tr th {\n",
       "        vertical-align: top;\n",
       "    }\n",
       "\n",
       "    .dataframe thead th {\n",
       "        text-align: right;\n",
       "    }\n",
       "</style>\n",
       "<table border=\"1\" class=\"dataframe\">\n",
       "  <thead>\n",
       "    <tr style=\"text-align: right;\">\n",
       "      <th></th>\n",
       "      <th>iso_code</th>\n",
       "      <th>location</th>\n",
       "      <th>date</th>\n",
       "      <th>total_cases</th>\n",
       "      <th>new_cases</th>\n",
       "      <th>total_deaths</th>\n",
       "      <th>new_deaths</th>\n",
       "      <th>total_cases_per_million</th>\n",
       "      <th>new_cases_per_million</th>\n",
       "      <th>total_deaths_per_million</th>\n",
       "      <th>new_deaths_per_million</th>\n",
       "      <th>total_tests</th>\n",
       "      <th>new_tests</th>\n",
       "      <th>total_tests_per_thousand</th>\n",
       "      <th>new_tests_per_thousand</th>\n",
       "      <th>tests_units</th>\n",
       "    </tr>\n",
       "  </thead>\n",
       "  <tbody>\n",
       "    <tr>\n",
       "      <th>155</th>\n",
       "      <td>AFG</td>\n",
       "      <td>Afghanistan</td>\n",
       "      <td>2020-04-28</td>\n",
       "      <td>1703</td>\n",
       "      <td>172</td>\n",
       "      <td>57</td>\n",
       "      <td>0</td>\n",
       "      <td>43.747</td>\n",
       "      <td>4.418</td>\n",
       "      <td>1.464</td>\n",
       "      <td>0.000</td>\n",
       "      <td>NaN</td>\n",
       "      <td>NaN</td>\n",
       "      <td>NaN</td>\n",
       "      <td>NaN</td>\n",
       "      <td>NaN</td>\n",
       "    </tr>\n",
       "    <tr>\n",
       "      <th>304</th>\n",
       "      <td>ALB</td>\n",
       "      <td>Albania</td>\n",
       "      <td>2020-04-28</td>\n",
       "      <td>736</td>\n",
       "      <td>10</td>\n",
       "      <td>28</td>\n",
       "      <td>0</td>\n",
       "      <td>255.751</td>\n",
       "      <td>3.475</td>\n",
       "      <td>9.730</td>\n",
       "      <td>0.000</td>\n",
       "      <td>NaN</td>\n",
       "      <td>NaN</td>\n",
       "      <td>NaN</td>\n",
       "      <td>NaN</td>\n",
       "      <td>NaN</td>\n",
       "    </tr>\n",
       "    <tr>\n",
       "      <th>482</th>\n",
       "      <td>ARE</td>\n",
       "      <td>United Arab Emirates</td>\n",
       "      <td>2020-04-28</td>\n",
       "      <td>10839</td>\n",
       "      <td>490</td>\n",
       "      <td>82</td>\n",
       "      <td>6</td>\n",
       "      <td>1095.911</td>\n",
       "      <td>49.543</td>\n",
       "      <td>8.291</td>\n",
       "      <td>0.607</td>\n",
       "      <td>NaN</td>\n",
       "      <td>NaN</td>\n",
       "      <td>NaN</td>\n",
       "      <td>NaN</td>\n",
       "      <td>NaN</td>\n",
       "    </tr>\n",
       "    <tr>\n",
       "      <th>544</th>\n",
       "      <td>ARG</td>\n",
       "      <td>Argentina</td>\n",
       "      <td>2020-04-28</td>\n",
       "      <td>3990</td>\n",
       "      <td>223</td>\n",
       "      <td>197</td>\n",
       "      <td>11</td>\n",
       "      <td>88.283</td>\n",
       "      <td>4.934</td>\n",
       "      <td>4.359</td>\n",
       "      <td>0.243</td>\n",
       "      <td>53600.0</td>\n",
       "      <td>1700.0</td>\n",
       "      <td>1.186</td>\n",
       "      <td>0.038</td>\n",
       "      <td>tests performed</td>\n",
       "    </tr>\n",
       "    <tr>\n",
       "      <th>664</th>\n",
       "      <td>ARM</td>\n",
       "      <td>Armenia</td>\n",
       "      <td>2020-04-28</td>\n",
       "      <td>1867</td>\n",
       "      <td>59</td>\n",
       "      <td>30</td>\n",
       "      <td>1</td>\n",
       "      <td>630.055</td>\n",
       "      <td>19.911</td>\n",
       "      <td>10.124</td>\n",
       "      <td>0.337</td>\n",
       "      <td>NaN</td>\n",
       "      <td>NaN</td>\n",
       "      <td>NaN</td>\n",
       "      <td>NaN</td>\n",
       "      <td>NaN</td>\n",
       "    </tr>\n",
       "  </tbody>\n",
       "</table>\n",
       "</div>"
      ],
      "text/plain": [
       "    iso_code              location        date  total_cases  new_cases  \\\n",
       "155      AFG           Afghanistan  2020-04-28         1703        172   \n",
       "304      ALB               Albania  2020-04-28          736         10   \n",
       "482      ARE  United Arab Emirates  2020-04-28        10839        490   \n",
       "544      ARG             Argentina  2020-04-28         3990        223   \n",
       "664      ARM               Armenia  2020-04-28         1867         59   \n",
       "\n",
       "     total_deaths  new_deaths  total_cases_per_million  new_cases_per_million  \\\n",
       "155            57           0                   43.747                  4.418   \n",
       "304            28           0                  255.751                  3.475   \n",
       "482            82           6                 1095.911                 49.543   \n",
       "544           197          11                   88.283                  4.934   \n",
       "664            30           1                  630.055                 19.911   \n",
       "\n",
       "     total_deaths_per_million  new_deaths_per_million  total_tests  new_tests  \\\n",
       "155                     1.464                   0.000          NaN        NaN   \n",
       "304                     9.730                   0.000          NaN        NaN   \n",
       "482                     8.291                   0.607          NaN        NaN   \n",
       "544                     4.359                   0.243      53600.0     1700.0   \n",
       "664                    10.124                   0.337          NaN        NaN   \n",
       "\n",
       "     total_tests_per_thousand  new_tests_per_thousand      tests_units  \n",
       "155                       NaN                     NaN              NaN  \n",
       "304                       NaN                     NaN              NaN  \n",
       "482                       NaN                     NaN              NaN  \n",
       "544                     1.186                   0.038  tests performed  \n",
       "664                       NaN                     NaN              NaN  "
      ]
     },
     "execution_count": 17,
     "metadata": {},
     "output_type": "execute_result"
    }
   ],
   "source": [
    "reduced_covid_april_28 = reduced_covid.loc[reduced_covid['date'].isin(covid_april_28)]\n",
    "reduced_covid_april_28.head()"
   ]
  },
  {
   "cell_type": "markdown",
   "metadata": {},
   "source": [
    "**reduced_corruption (5) Table:**\n",
    "\n",
    "In this step, we ensure that only countries that were represented in the most updated covid table (reduced_covid_april_28) are included in the corruption dataset containing the socio-political indicator ('Perceptions of corruption') of interest to us. This will ensure that we have the same number of rows in each dataset, in order to allow us to combine and match corresponding variables across these two datasets."
   ]
  },
  {
   "cell_type": "code",
   "execution_count": 18,
   "metadata": {},
   "outputs": [],
   "source": [
    "countriess = reduced_covid_april_28['location']"
   ]
  },
  {
   "cell_type": "code",
   "execution_count": 19,
   "metadata": {},
   "outputs": [
    {
     "data": {
      "text/html": [
       "<div>\n",
       "<style scoped>\n",
       "    .dataframe tbody tr th:only-of-type {\n",
       "        vertical-align: middle;\n",
       "    }\n",
       "\n",
       "    .dataframe tbody tr th {\n",
       "        vertical-align: top;\n",
       "    }\n",
       "\n",
       "    .dataframe thead th {\n",
       "        text-align: right;\n",
       "    }\n",
       "</style>\n",
       "<table border=\"1\" class=\"dataframe\">\n",
       "  <thead>\n",
       "    <tr style=\"text-align: right;\">\n",
       "      <th></th>\n",
       "      <th>Overall rank</th>\n",
       "      <th>Country or region</th>\n",
       "      <th>Score</th>\n",
       "      <th>GDP per capita</th>\n",
       "      <th>Social support</th>\n",
       "      <th>Healthy life expectancy</th>\n",
       "      <th>Freedom to make life choices</th>\n",
       "      <th>Generosity</th>\n",
       "      <th>Perceptions of corruption</th>\n",
       "    </tr>\n",
       "  </thead>\n",
       "  <tbody>\n",
       "    <tr>\n",
       "      <th>0</th>\n",
       "      <td>1</td>\n",
       "      <td>Finland</td>\n",
       "      <td>7.769</td>\n",
       "      <td>1.340</td>\n",
       "      <td>1.587</td>\n",
       "      <td>0.986</td>\n",
       "      <td>0.596</td>\n",
       "      <td>0.153</td>\n",
       "      <td>0.393</td>\n",
       "    </tr>\n",
       "    <tr>\n",
       "      <th>1</th>\n",
       "      <td>2</td>\n",
       "      <td>Denmark</td>\n",
       "      <td>7.600</td>\n",
       "      <td>1.383</td>\n",
       "      <td>1.573</td>\n",
       "      <td>0.996</td>\n",
       "      <td>0.592</td>\n",
       "      <td>0.252</td>\n",
       "      <td>0.410</td>\n",
       "    </tr>\n",
       "    <tr>\n",
       "      <th>2</th>\n",
       "      <td>3</td>\n",
       "      <td>Norway</td>\n",
       "      <td>7.554</td>\n",
       "      <td>1.488</td>\n",
       "      <td>1.582</td>\n",
       "      <td>1.028</td>\n",
       "      <td>0.603</td>\n",
       "      <td>0.271</td>\n",
       "      <td>0.341</td>\n",
       "    </tr>\n",
       "    <tr>\n",
       "      <th>3</th>\n",
       "      <td>4</td>\n",
       "      <td>Iceland</td>\n",
       "      <td>7.494</td>\n",
       "      <td>1.380</td>\n",
       "      <td>1.624</td>\n",
       "      <td>1.026</td>\n",
       "      <td>0.591</td>\n",
       "      <td>0.354</td>\n",
       "      <td>0.118</td>\n",
       "    </tr>\n",
       "    <tr>\n",
       "      <th>4</th>\n",
       "      <td>5</td>\n",
       "      <td>Netherlands</td>\n",
       "      <td>7.488</td>\n",
       "      <td>1.396</td>\n",
       "      <td>1.522</td>\n",
       "      <td>0.999</td>\n",
       "      <td>0.557</td>\n",
       "      <td>0.322</td>\n",
       "      <td>0.298</td>\n",
       "    </tr>\n",
       "  </tbody>\n",
       "</table>\n",
       "</div>"
      ],
      "text/plain": [
       "   Overall rank Country or region  Score  GDP per capita  Social support  \\\n",
       "0             1           Finland  7.769           1.340           1.587   \n",
       "1             2           Denmark  7.600           1.383           1.573   \n",
       "2             3            Norway  7.554           1.488           1.582   \n",
       "3             4           Iceland  7.494           1.380           1.624   \n",
       "4             5       Netherlands  7.488           1.396           1.522   \n",
       "\n",
       "   Healthy life expectancy  Freedom to make life choices  Generosity  \\\n",
       "0                    0.986                         0.596       0.153   \n",
       "1                    0.996                         0.592       0.252   \n",
       "2                    1.028                         0.603       0.271   \n",
       "3                    1.026                         0.591       0.354   \n",
       "4                    0.999                         0.557       0.322   \n",
       "\n",
       "   Perceptions of corruption  \n",
       "0                      0.393  \n",
       "1                      0.410  \n",
       "2                      0.341  \n",
       "3                      0.118  \n",
       "4                      0.298  "
      ]
     },
     "execution_count": 19,
     "metadata": {},
     "output_type": "execute_result"
    }
   ],
   "source": [
    "reduced_corruption = corruption.loc[corruption['Country or region'].isin(countriess)]\n",
    "reduced_corruption.head()"
   ]
  },
  {
   "cell_type": "markdown",
   "metadata": {},
   "source": [
    "**Sorting the COVID-19 Table - new_sorted_covid (6):**\n",
    "\n",
    "Here, we drop the columns unrelated to our study, and sort the most updated COVID-19 table according to the location variable. We do the same to the most updated corruption table (reduced_corruption), i.e. we sort it by the \"Country or region\" variable."
   ]
  },
  {
   "cell_type": "code",
   "execution_count": 20,
   "metadata": {},
   "outputs": [
    {
     "data": {
      "text/html": [
       "<div>\n",
       "<style scoped>\n",
       "    .dataframe tbody tr th:only-of-type {\n",
       "        vertical-align: middle;\n",
       "    }\n",
       "\n",
       "    .dataframe tbody tr th {\n",
       "        vertical-align: top;\n",
       "    }\n",
       "\n",
       "    .dataframe thead th {\n",
       "        text-align: right;\n",
       "    }\n",
       "</style>\n",
       "<table border=\"1\" class=\"dataframe\">\n",
       "  <thead>\n",
       "    <tr style=\"text-align: right;\">\n",
       "      <th></th>\n",
       "      <th>location</th>\n",
       "      <th>total_cases_per_million</th>\n",
       "    </tr>\n",
       "  </thead>\n",
       "  <tbody>\n",
       "    <tr>\n",
       "      <th>155</th>\n",
       "      <td>Afghanistan</td>\n",
       "      <td>43.747</td>\n",
       "    </tr>\n",
       "    <tr>\n",
       "      <th>304</th>\n",
       "      <td>Albania</td>\n",
       "      <td>255.751</td>\n",
       "    </tr>\n",
       "    <tr>\n",
       "      <th>4198</th>\n",
       "      <td>Algeria</td>\n",
       "      <td>80.203</td>\n",
       "    </tr>\n",
       "    <tr>\n",
       "      <th>544</th>\n",
       "      <td>Argentina</td>\n",
       "      <td>88.283</td>\n",
       "    </tr>\n",
       "    <tr>\n",
       "      <th>664</th>\n",
       "      <td>Armenia</td>\n",
       "      <td>630.055</td>\n",
       "    </tr>\n",
       "  </tbody>\n",
       "</table>\n",
       "</div>"
      ],
      "text/plain": [
       "         location  total_cases_per_million\n",
       "155   Afghanistan                   43.747\n",
       "304       Albania                  255.751\n",
       "4198      Algeria                   80.203\n",
       "544     Argentina                   88.283\n",
       "664       Armenia                  630.055"
      ]
     },
     "execution_count": 20,
     "metadata": {},
     "output_type": "execute_result"
    }
   ],
   "source": [
    "sorted_covid = reduced_covid_april_28.sort_values(by=['location'])\n",
    "new_sorted_covid = sorted_covid.drop(columns=['iso_code', 'total_cases', 'total_deaths', 'date', 'new_cases', 'new_deaths', 'new_cases_per_million', 'new_deaths_per_million', 'total_tests', 'new_tests', 'total_tests_per_thousand' , 'new_tests_per_thousand' , 'tests_units', 'total_deaths_per_million'])\n",
    "new_sorted_covid.head()"
   ]
  },
  {
   "cell_type": "markdown",
   "metadata": {},
   "source": [
    "Again, here we just sort the corruption table in the same way, in order to ensure that corresponding columns across the two datasets match. "
   ]
  },
  {
   "cell_type": "code",
   "execution_count": 21,
   "metadata": {},
   "outputs": [
    {
     "data": {
      "text/html": [
       "<div>\n",
       "<style scoped>\n",
       "    .dataframe tbody tr th:only-of-type {\n",
       "        vertical-align: middle;\n",
       "    }\n",
       "\n",
       "    .dataframe tbody tr th {\n",
       "        vertical-align: top;\n",
       "    }\n",
       "\n",
       "    .dataframe thead th {\n",
       "        text-align: right;\n",
       "    }\n",
       "</style>\n",
       "<table border=\"1\" class=\"dataframe\">\n",
       "  <thead>\n",
       "    <tr style=\"text-align: right;\">\n",
       "      <th></th>\n",
       "      <th>Overall rank</th>\n",
       "      <th>Country or region</th>\n",
       "      <th>Score</th>\n",
       "      <th>GDP per capita</th>\n",
       "      <th>Social support</th>\n",
       "      <th>Healthy life expectancy</th>\n",
       "      <th>Freedom to make life choices</th>\n",
       "      <th>Generosity</th>\n",
       "      <th>Perceptions of corruption</th>\n",
       "    </tr>\n",
       "  </thead>\n",
       "  <tbody>\n",
       "    <tr>\n",
       "      <th>153</th>\n",
       "      <td>154</td>\n",
       "      <td>Afghanistan</td>\n",
       "      <td>3.203</td>\n",
       "      <td>0.350</td>\n",
       "      <td>0.517</td>\n",
       "      <td>0.361</td>\n",
       "      <td>0.000</td>\n",
       "      <td>0.158</td>\n",
       "      <td>0.025</td>\n",
       "    </tr>\n",
       "    <tr>\n",
       "      <th>106</th>\n",
       "      <td>107</td>\n",
       "      <td>Albania</td>\n",
       "      <td>4.719</td>\n",
       "      <td>0.947</td>\n",
       "      <td>0.848</td>\n",
       "      <td>0.874</td>\n",
       "      <td>0.383</td>\n",
       "      <td>0.178</td>\n",
       "      <td>0.027</td>\n",
       "    </tr>\n",
       "    <tr>\n",
       "      <th>87</th>\n",
       "      <td>88</td>\n",
       "      <td>Algeria</td>\n",
       "      <td>5.211</td>\n",
       "      <td>1.002</td>\n",
       "      <td>1.160</td>\n",
       "      <td>0.785</td>\n",
       "      <td>0.086</td>\n",
       "      <td>0.073</td>\n",
       "      <td>0.114</td>\n",
       "    </tr>\n",
       "    <tr>\n",
       "      <th>46</th>\n",
       "      <td>47</td>\n",
       "      <td>Argentina</td>\n",
       "      <td>6.086</td>\n",
       "      <td>1.092</td>\n",
       "      <td>1.432</td>\n",
       "      <td>0.881</td>\n",
       "      <td>0.471</td>\n",
       "      <td>0.066</td>\n",
       "      <td>0.050</td>\n",
       "    </tr>\n",
       "    <tr>\n",
       "      <th>115</th>\n",
       "      <td>116</td>\n",
       "      <td>Armenia</td>\n",
       "      <td>4.559</td>\n",
       "      <td>0.850</td>\n",
       "      <td>1.055</td>\n",
       "      <td>0.815</td>\n",
       "      <td>0.283</td>\n",
       "      <td>0.095</td>\n",
       "      <td>0.064</td>\n",
       "    </tr>\n",
       "  </tbody>\n",
       "</table>\n",
       "</div>"
      ],
      "text/plain": [
       "     Overall rank Country or region  Score  GDP per capita  Social support  \\\n",
       "153           154       Afghanistan  3.203           0.350           0.517   \n",
       "106           107           Albania  4.719           0.947           0.848   \n",
       "87             88           Algeria  5.211           1.002           1.160   \n",
       "46             47         Argentina  6.086           1.092           1.432   \n",
       "115           116           Armenia  4.559           0.850           1.055   \n",
       "\n",
       "     Healthy life expectancy  Freedom to make life choices  Generosity  \\\n",
       "153                    0.361                         0.000       0.158   \n",
       "106                    0.874                         0.383       0.178   \n",
       "87                     0.785                         0.086       0.073   \n",
       "46                     0.881                         0.471       0.066   \n",
       "115                    0.815                         0.283       0.095   \n",
       "\n",
       "     Perceptions of corruption  \n",
       "153                      0.025  \n",
       "106                      0.027  \n",
       "87                       0.114  \n",
       "46                       0.050  \n",
       "115                      0.064  "
      ]
     },
     "execution_count": 21,
     "metadata": {},
     "output_type": "execute_result"
    }
   ],
   "source": [
    "sorted_corruption = reduced_corruption.sort_values(by=['Country or region'])\n",
    "sorted_corruption.head()"
   ]
  },
  {
   "cell_type": "markdown",
   "metadata": {},
   "source": [
    "**Combining Columns Across Our Datasets:**\n",
    "\n",
    "In this final step, we simply update the index of latest covid dataset, to reflect the same number as the corresponding country in the latest corruption table. "
   ]
  },
  {
   "cell_type": "code",
   "execution_count": 22,
   "metadata": {},
   "outputs": [],
   "source": [
    "new_sorted_covid = new_sorted_covid.set_index(sorted_corruption.index)"
   ]
  },
  {
   "cell_type": "markdown",
   "metadata": {},
   "source": [
    "## Putting It All Together:\n",
    "\n",
    "Here we assign the variable from the corruption dataset of interest to us to the variable 'corruption'.\n",
    "\n",
    "\n",
    "#### **Final Table:**\n",
    "Then we create a new column in the most updated COVID-19 dataset (**new_sorted_covid**), containing this variable:"
   ]
  },
  {
   "cell_type": "code",
   "execution_count": 23,
   "metadata": {},
   "outputs": [],
   "source": [
    "corruption = sorted_corruption['Perceptions of corruption']"
   ]
  },
  {
   "cell_type": "code",
   "execution_count": 24,
   "metadata": {},
   "outputs": [],
   "source": [
    "new_sorted_covid[\"Perceptions of corruption\"] = corruption"
   ]
  },
  {
   "cell_type": "code",
   "execution_count": 25,
   "metadata": {},
   "outputs": [
    {
     "data": {
      "text/html": [
       "<div>\n",
       "<style scoped>\n",
       "    .dataframe tbody tr th:only-of-type {\n",
       "        vertical-align: middle;\n",
       "    }\n",
       "\n",
       "    .dataframe tbody tr th {\n",
       "        vertical-align: top;\n",
       "    }\n",
       "\n",
       "    .dataframe thead th {\n",
       "        text-align: right;\n",
       "    }\n",
       "</style>\n",
       "<table border=\"1\" class=\"dataframe\">\n",
       "  <thead>\n",
       "    <tr style=\"text-align: right;\">\n",
       "      <th></th>\n",
       "      <th>location</th>\n",
       "      <th>total_cases_per_million</th>\n",
       "      <th>corruption</th>\n",
       "    </tr>\n",
       "  </thead>\n",
       "  <tbody>\n",
       "    <tr>\n",
       "      <th>153</th>\n",
       "      <td>Afghanistan</td>\n",
       "      <td>43.747</td>\n",
       "      <td>0.025</td>\n",
       "    </tr>\n",
       "    <tr>\n",
       "      <th>106</th>\n",
       "      <td>Albania</td>\n",
       "      <td>255.751</td>\n",
       "      <td>0.027</td>\n",
       "    </tr>\n",
       "    <tr>\n",
       "      <th>87</th>\n",
       "      <td>Algeria</td>\n",
       "      <td>80.203</td>\n",
       "      <td>0.114</td>\n",
       "    </tr>\n",
       "    <tr>\n",
       "      <th>46</th>\n",
       "      <td>Argentina</td>\n",
       "      <td>88.283</td>\n",
       "      <td>0.050</td>\n",
       "    </tr>\n",
       "    <tr>\n",
       "      <th>115</th>\n",
       "      <td>Armenia</td>\n",
       "      <td>630.055</td>\n",
       "      <td>0.064</td>\n",
       "    </tr>\n",
       "  </tbody>\n",
       "</table>\n",
       "</div>"
      ],
      "text/plain": [
       "        location  total_cases_per_million  corruption\n",
       "153  Afghanistan                   43.747       0.025\n",
       "106      Albania                  255.751       0.027\n",
       "87       Algeria                   80.203       0.114\n",
       "46     Argentina                   88.283       0.050\n",
       "115      Armenia                  630.055       0.064"
      ]
     },
     "execution_count": 25,
     "metadata": {},
     "output_type": "execute_result"
    }
   ],
   "source": [
    "final_table = new_sorted_covid.rename(columns={'Perceptions of corruption': 'corruption'})\n",
    "final_table.head()"
   ]
  },
  {
   "cell_type": "markdown",
   "metadata": {},
   "source": [
    "# Part 3: Initial Analysis"
   ]
  },
  {
   "cell_type": "markdown",
   "metadata": {},
   "source": [
    "**Q5:** Conduct at least two different manipulations of your now-ready table that help you understand something of interest about the dataset (e.g., you might explore options like sort_values(), shape, value_counts(), groupby(), etc.). Why did you choose these two, and what have you learned? (Hint: You may need to do a bit of work to get the data into a format that is usable for you -- e.g., renaming columns, changing data types, etc. If any of this was necessary, show your code and briefly explain why you made these changes)"
   ]
  },
  {
   "cell_type": "markdown",
   "metadata": {},
   "source": [
    "Firstly, we will use the shape method to learn more about the properties of this dataset, as it relates to the number of observations and variables. "
   ]
  },
  {
   "cell_type": "code",
   "execution_count": 26,
   "metadata": {},
   "outputs": [
    {
     "data": {
      "text/plain": [
       "(144, 3)"
      ]
     },
     "execution_count": 26,
     "metadata": {},
     "output_type": "execute_result"
    }
   ],
   "source": [
    "final_table.shape"
   ]
  },
  {
   "cell_type": "markdown",
   "metadata": {},
   "source": [
    "From this output, we learn that we have 144 countries (rows), 3 columns (including the name of the country, \"total_cases_per_million\", and \"corruption\"), which is something to keep in mind when we later consider whether our analysis has been informed by enough data, and whether a pursuit of more data would be a worthwile endeavor. "
   ]
  },
  {
   "cell_type": "markdown",
   "metadata": {},
   "source": [
    "Secondly, we will look at the ranks of the 144 countries and their range, with respect to the two variables of interest to us - the sort_values option helps us achieve this. "
   ]
  },
  {
   "cell_type": "code",
   "execution_count": 27,
   "metadata": {},
   "outputs": [
    {
     "data": {
      "text/html": [
       "<div>\n",
       "<style scoped>\n",
       "    .dataframe tbody tr th:only-of-type {\n",
       "        vertical-align: middle;\n",
       "    }\n",
       "\n",
       "    .dataframe tbody tr th {\n",
       "        vertical-align: top;\n",
       "    }\n",
       "\n",
       "    .dataframe thead th {\n",
       "        text-align: right;\n",
       "    }\n",
       "</style>\n",
       "<table border=\"1\" class=\"dataframe\">\n",
       "  <thead>\n",
       "    <tr style=\"text-align: right;\">\n",
       "      <th></th>\n",
       "      <th>location</th>\n",
       "      <th>total_cases_per_million</th>\n",
       "      <th>corruption</th>\n",
       "    </tr>\n",
       "  </thead>\n",
       "  <tbody>\n",
       "    <tr>\n",
       "      <th>150</th>\n",
       "      <td>Yemen</td>\n",
       "      <td>0.034</td>\n",
       "      <td>0.077</td>\n",
       "    </tr>\n",
       "    <tr>\n",
       "      <th>155</th>\n",
       "      <td>South Sudan</td>\n",
       "      <td>0.536</td>\n",
       "      <td>0.091</td>\n",
       "    </tr>\n",
       "    <tr>\n",
       "      <th>133</th>\n",
       "      <td>Ethiopia</td>\n",
       "      <td>1.079</td>\n",
       "      <td>0.100</td>\n",
       "    </tr>\n",
       "    <tr>\n",
       "      <th>144</th>\n",
       "      <td>Burundi</td>\n",
       "      <td>1.261</td>\n",
       "      <td>0.180</td>\n",
       "    </tr>\n",
       "    <tr>\n",
       "      <th>121</th>\n",
       "      <td>Mauritania</td>\n",
       "      <td>1.505</td>\n",
       "      <td>0.088</td>\n",
       "    </tr>\n",
       "    <tr>\n",
       "      <th>...</th>\n",
       "      <td>...</td>\n",
       "      <td>...</td>\n",
       "      <td>...</td>\n",
       "    </tr>\n",
       "    <tr>\n",
       "      <th>15</th>\n",
       "      <td>Ireland</td>\n",
       "      <td>3979.103</td>\n",
       "      <td>0.310</td>\n",
       "    </tr>\n",
       "    <tr>\n",
       "      <th>17</th>\n",
       "      <td>Belgium</td>\n",
       "      <td>4028.347</td>\n",
       "      <td>0.210</td>\n",
       "    </tr>\n",
       "    <tr>\n",
       "      <th>29</th>\n",
       "      <td>Spain</td>\n",
       "      <td>4508.052</td>\n",
       "      <td>0.079</td>\n",
       "    </tr>\n",
       "    <tr>\n",
       "      <th>3</th>\n",
       "      <td>Iceland</td>\n",
       "      <td>5251.282</td>\n",
       "      <td>0.118</td>\n",
       "    </tr>\n",
       "    <tr>\n",
       "      <th>13</th>\n",
       "      <td>Luxembourg</td>\n",
       "      <td>5957.097</td>\n",
       "      <td>0.316</td>\n",
       "    </tr>\n",
       "  </tbody>\n",
       "</table>\n",
       "<p>144 rows × 3 columns</p>\n",
       "</div>"
      ],
      "text/plain": [
       "        location  total_cases_per_million  corruption\n",
       "150        Yemen                    0.034       0.077\n",
       "155  South Sudan                    0.536       0.091\n",
       "133     Ethiopia                    1.079       0.100\n",
       "144      Burundi                    1.261       0.180\n",
       "121   Mauritania                    1.505       0.088\n",
       "..           ...                      ...         ...\n",
       "15       Ireland                 3979.103       0.310\n",
       "17       Belgium                 4028.347       0.210\n",
       "29         Spain                 4508.052       0.079\n",
       "3        Iceland                 5251.282       0.118\n",
       "13    Luxembourg                 5957.097       0.316\n",
       "\n",
       "[144 rows x 3 columns]"
      ]
     },
     "execution_count": 27,
     "metadata": {},
     "output_type": "execute_result"
    }
   ],
   "source": [
    "ranking = final_table.sort_values(by=\"total_cases_per_million\")\n",
    "ranking"
   ]
  },
  {
   "cell_type": "markdown",
   "metadata": {},
   "source": [
    "We ought to sort by the column \"total_cases_per_million\", in order to understand the range and distribution of COVID-19. This particular output suggests that western European countries had more total cases per million compared to African countries, as of April 28th, 2020. This also raises questions about how countries with smaller populations should be studied, particularly with respect to our analysis of their \"ability\" to control the effect of COVID-19 on their populations. Generally speaking, smaller countries tend to have more extreme values; e.g. Montenegro is one of the smallest countries in the world and \"just happens\" to be home to a population with the second highest average human height. We learn from this that we perhaps should take this into account when we decipher our results later on?"
   ]
  },
  {
   "cell_type": "code",
   "execution_count": 28,
   "metadata": {},
   "outputs": [
    {
     "data": {
      "text/html": [
       "<div>\n",
       "<style scoped>\n",
       "    .dataframe tbody tr th:only-of-type {\n",
       "        vertical-align: middle;\n",
       "    }\n",
       "\n",
       "    .dataframe tbody tr th {\n",
       "        vertical-align: top;\n",
       "    }\n",
       "\n",
       "    .dataframe thead th {\n",
       "        text-align: right;\n",
       "    }\n",
       "</style>\n",
       "<table border=\"1\" class=\"dataframe\">\n",
       "  <thead>\n",
       "    <tr style=\"text-align: right;\">\n",
       "      <th></th>\n",
       "      <th>location</th>\n",
       "      <th>total_cases_per_million</th>\n",
       "      <th>corruption</th>\n",
       "    </tr>\n",
       "  </thead>\n",
       "  <tbody>\n",
       "    <tr>\n",
       "      <th>70</th>\n",
       "      <td>Moldova</td>\n",
       "      <td>862.923</td>\n",
       "      <td>0.000</td>\n",
       "    </tr>\n",
       "    <tr>\n",
       "      <th>96</th>\n",
       "      <td>Bulgaria</td>\n",
       "      <td>196.159</td>\n",
       "      <td>0.004</td>\n",
       "    </tr>\n",
       "    <tr>\n",
       "      <th>47</th>\n",
       "      <td>Romania</td>\n",
       "      <td>589.416</td>\n",
       "      <td>0.005</td>\n",
       "    </tr>\n",
       "    <tr>\n",
       "      <th>45</th>\n",
       "      <td>Kosovo</td>\n",
       "      <td>403.565</td>\n",
       "      <td>0.006</td>\n",
       "    </tr>\n",
       "    <tr>\n",
       "      <th>77</th>\n",
       "      <td>Bosnia and Herzegovina</td>\n",
       "      <td>476.711</td>\n",
       "      <td>0.006</td>\n",
       "    </tr>\n",
       "    <tr>\n",
       "      <th>...</th>\n",
       "      <td>...</td>\n",
       "      <td>...</td>\n",
       "      <td>...</td>\n",
       "    </tr>\n",
       "    <tr>\n",
       "      <th>7</th>\n",
       "      <td>New Zealand</td>\n",
       "      <td>233.087</td>\n",
       "      <td>0.380</td>\n",
       "    </tr>\n",
       "    <tr>\n",
       "      <th>0</th>\n",
       "      <td>Finland</td>\n",
       "      <td>847.363</td>\n",
       "      <td>0.393</td>\n",
       "    </tr>\n",
       "    <tr>\n",
       "      <th>1</th>\n",
       "      <td>Denmark</td>\n",
       "      <td>1501.674</td>\n",
       "      <td>0.410</td>\n",
       "    </tr>\n",
       "    <tr>\n",
       "      <th>151</th>\n",
       "      <td>Rwanda</td>\n",
       "      <td>15.982</td>\n",
       "      <td>0.411</td>\n",
       "    </tr>\n",
       "    <tr>\n",
       "      <th>33</th>\n",
       "      <td>Singapore</td>\n",
       "      <td>2465.326</td>\n",
       "      <td>0.453</td>\n",
       "    </tr>\n",
       "  </tbody>\n",
       "</table>\n",
       "<p>144 rows × 3 columns</p>\n",
       "</div>"
      ],
      "text/plain": [
       "                   location  total_cases_per_million  corruption\n",
       "70                  Moldova                  862.923       0.000\n",
       "96                 Bulgaria                  196.159       0.004\n",
       "47                  Romania                  589.416       0.005\n",
       "45                   Kosovo                  403.565       0.006\n",
       "77   Bosnia and Herzegovina                  476.711       0.006\n",
       "..                      ...                      ...         ...\n",
       "7               New Zealand                  233.087       0.380\n",
       "0                   Finland                  847.363       0.393\n",
       "1                   Denmark                 1501.674       0.410\n",
       "151                  Rwanda                   15.982       0.411\n",
       "33                Singapore                 2465.326       0.453\n",
       "\n",
       "[144 rows x 3 columns]"
      ]
     },
     "execution_count": 28,
     "metadata": {},
     "output_type": "execute_result"
    }
   ],
   "source": [
    "ranking2 = final_table.sort_values(by=\"corruption\")\n",
    "ranking2"
   ]
  },
  {
   "cell_type": "markdown",
   "metadata": {},
   "source": [
    "In an effort to better understand the range and distribution of \"corruption scores\", we ought to sort by this column. This manipulation teaches us that citizens of eastern European countries appear to perceive the greatest corruption in their countries, given that they report the lowest scores in the 'corruption' column, while citizens of wealthier nations tend to \"perceive less corruption\" in their countries. In our final consideration of the analytical outcome from this study, we might need to revisit the seemingly convoluted role and significance of wealth, both with respect to perceptions of corruption and COVID-19. "
   ]
  },
  {
   "cell_type": "markdown",
   "metadata": {},
   "source": [
    "**Q6:** Generate two different types of graphs of any kind that are useful to you to better understand what you're interested in. They don't need to be formatted particularly beautifully, but you do need to use two different types of graphs (e.g., a bar chart and a scatterplot) and explain what you hoped to understand, why you chose these graphs, and whether they're useful in improving your understanding."
   ]
  },
  {
   "cell_type": "markdown",
   "metadata": {},
   "source": [
    "**Histogram: Distribution of 'Perceptions of corruption' Across 144 Countries**\n",
    " - In an effort to better understand the variability of \"Perceived Corruption\" scores, we can look at the distribution of the independent variable; i.e. this can help us to undersand more fully the potential limitations on our ability to use variation in \"corruption\" scores as a predictor of total cases per million of COVID-19 in a given country. \n",
    " - Histograms are useful in visualizing the distribution of a single quantitative variable; given that this is our goal, it serves as a useful visualization strategy here as well. \n",
    " - We learn that the histogram is right-skewed. The majority of the \"Perceptions of corruption\" scores lie between 0.0 and 0.2. A few values are slightly greater than 0.4, but this is a rare sight; i.e. most countries report scores on the lower end of the spectrum, which implies that it will likely be harder to reliably predict COVID-19 cases per million when dealing with countries with larger corruption scores **(again, note that larger scores on the x axis, i.e. 'corruption', corresponds to countries in which people perceive less corruption, relatively speaking.)**"
   ]
  },
  {
   "cell_type": "code",
   "execution_count": 29,
   "metadata": {},
   "outputs": [
    {
     "data": {
      "text/plain": [
       "Text(0.5, 1.0, 'Histogram for N=144 Countries')"
      ]
     },
     "execution_count": 29,
     "metadata": {},
     "output_type": "execute_result"
    },
    {
     "data": {
      "image/png": "[encoded data removed]",
      "text/plain": [
       "<Figure size 432x288 with 1 Axes>"
      ]
     },
     "metadata": {
      "needs_background": "light"
     },
     "output_type": "display_data"
    }
   ],
   "source": [
    "matplotlib.pyplot.hist(final_table['corruption'])\n",
    "matplotlib.pyplot.xlabel(\"Perceptions of Corruption\")\n",
    "matplotlib.pyplot.title(f\"Histogram for N={len(final_table)} Countries\")"
   ]
  },
  {
   "cell_type": "markdown",
   "metadata": {},
   "source": [
    "**Scatter-plot: Corruption Perception & Total COVID-19 Cases per Million**\n",
    " - This scatter-plot helps us answer questions such as whether two chosen variables can be used to determine the other in some predictable fashion. Scatter-plots are helpful in gauging associations and trends between two quantitative variables; in light of our decision to learn more about the association between these two quantitative variables, this type of visualization stands out as the best tool in our arsenal. \n",
    " - More specifically, we want to understand whether we can use the \"corruption\" scores to predict the total cases per million, as well as the direction of any trend that might become apparent. Lo and behold, the scatter-plot proved itself to be helpful in this pursuit, as we learn that a small association appears to be present, indicating that **smaller perceived corruption \"values\" (which reflect the opinion that corruption is relatively widespread) tend to correspond to lower total cases per million!).**\n",
    " - This result encourages us to wrestle with the significance of corruption; while it is possible that corrupt countries are simply better at controlling the effects of COVID-19 on their population, other features that might characterize more corrupt governments could be more plausible factors, such as ability to enforce certain behaviors. Another example could be that more corrupt countries are poorer, and that their citizens travel less and that fewer people visit the country, as a result of the economic climate, which could serve to lessen the spread of the disease. "
   ]
  },
  {
   "cell_type": "code",
   "execution_count": 30,
   "metadata": {},
   "outputs": [
    {
     "data": {
      "text/plain": [
       "Text(0.5, 1.0, 'Scatterplot for N=144 Countries')"
      ]
     },
     "execution_count": 30,
     "metadata": {},
     "output_type": "execute_result"
    },
    {
     "data": {
      "image/png": "[encoded data removed]",
      "text/plain": [
       "<Figure size 432x288 with 1 Axes>"
      ]
     },
     "metadata": {
      "needs_background": "light"
     },
     "output_type": "display_data"
    }
   ],
   "source": [
    "matplotlib.pyplot.scatter(final_table['corruption'], final_table['total_cases_per_million'], alpha=0.5)\n",
    "matplotlib.pyplot.xlabel(\"Perceptions of Corruption\")\n",
    "matplotlib.pyplot.ylabel(\"Total Cases per Million\")\n",
    "matplotlib.pyplot.title(f\"Scatterplot for N={len(final_table)} Countries\")"
   ]
  },
  {
   "cell_type": "markdown",
   "metadata": {},
   "source": [
    "# Part 4: Hypothesis Formulation:"
   ]
  },
  {
   "cell_type": "markdown",
   "metadata": {},
   "source": [
    "**Q7:** What is your dependent variable and independent variable? Briefly describe how they are measured in this dataset. (Remember, they'll both need to be continuous variables.)"
   ]
  },
  {
   "cell_type": "markdown",
   "metadata": {},
   "source": [
    "- **Dependent Variable:** 'total_cases_per_million'; i.e. The total number of (COVID-19) cases per Million (in a given country)\n",
    "- **Independent Variable:** 'corruption'\n",
    "\n",
    "In light of our aim to better understand socio-political factors that characterize the severity of a the impact of health crises, the 'corruption' variable will serve as the independent variable, while the total number of COVID-19 cases per million 'total_cases_per_million' will be treated as the dependent variable. \n",
    "\n",
    "'corruption' is measured as the average of binary answers by citizens to two questions about political and business corruption, but, when data about governmental corruption was missing, only business corruption data was used in the computation of this score. \n",
    "\n",
    "'total_cases_per_million' is measured in the exact way in which its name suggests, and serves as one of multiple reflections and indicators of COVID-19 prevalence. Our World in Data collects COVID-19 figures on the basis of information provided to them by the European Center for Disease Control and Prevention, who in turn measures COVID-19 in terms of updates it receives from EU/EEA countries through the Early Warning and Response System (EWRS), The European Surveillance System (TESSy), the World Health Organization (WHO) and other international stakeholders. Additionally, they perform screenings of up to 500 sources every day to collect COVID-19 figures from 196 countries. "
   ]
  },
  {
   "cell_type": "markdown",
   "metadata": {},
   "source": [
    "**Q8:** Calculate the correlation coefficient between your two variables and interpret the result."
   ]
  },
  {
   "cell_type": "code",
   "execution_count": 31,
   "metadata": {},
   "outputs": [],
   "source": [
    "corr_corruption_covid = final_table.corr()"
   ]
  },
  {
   "cell_type": "code",
   "execution_count": 32,
   "metadata": {},
   "outputs": [
    {
     "data": {
      "text/plain": [
       "0.3908192220797604"
      ]
     },
     "execution_count": 32,
     "metadata": {},
     "output_type": "execute_result"
    }
   ],
   "source": [
    "correlation_value = corr_corruption_covid.loc['corruption', 'total_cases_per_million']\n",
    "correlation_value"
   ]
  },
  {
   "cell_type": "markdown",
   "metadata": {},
   "source": [
    "**Correlation:** We observe a correlation of r=0.390819 between the 'corruption' explanatory variable and the \"total_cases_per_million\" response variable; i.e. there is a ~39% correlation between perceptions of corruption and the total cases of COVID-19 per Million in a given country. This suggest that as a country's 'corruption' score increases (reflective of less perceived corruption), their total number of COVID-19 cases per million tends to increase. The correlation coefficient in this instance is r= 0.390819, which generally indicates a weak to moderate uphill (positive) linear relationship. In the context of social-scientific variables, however, this can be considered to be quite noteworthy, given the typically large number of variables that contribute to these outcomes."
   ]
  },
  {
   "cell_type": "markdown",
   "metadata": {},
   "source": [
    "**Q9:** Write out your regression model as an equation"
   ]
  },
  {
   "cell_type": "markdown",
   "metadata": {},
   "source": [
    "**Regression Equation:** \n",
    "        \n",
    "        total_cases_per_million =  β0 + β1 * corruption\n",
    "\n",
    "\n",
    "- β0 denotes the y-intercept of the regression line (the total cases of COVID-10 per million for a given country, when the independent variable is = 0)\n",
    "- β1 denotes the regression coefficient (the predicted change in output for each unit change in input; i.e. predicted change in total cases per million for an increase of one in the 'corruption' score)"
   ]
  },
  {
   "cell_type": "markdown",
   "metadata": {},
   "source": [
    "**Q10:** Write out your null and alternative hypotheses."
   ]
  },
  {
   "cell_type": "markdown",
   "metadata": {},
   "source": [
    "**Null Hypothesis:**  β1 = 0; There is no association between a country's total number of COVID-19 cases per million and the country's perceived corruption score. Any variation is due to chance; i.e. an increase in a country's 'corruption' score by one has no discernable and predictable effect on the number of COVID-19 cases per million in that country. \n",
    "\n",
    "**Alternative Hypothesis:** β1 ≠ 0; There is an association between a country's total number of COVID-19 cases per million and the the country's perceived corruption score; i.e. an increase in a country's 'corruption' score has an effect on the number of COVID-19 cases per million in that country. "
   ]
  },
  {
   "cell_type": "markdown",
   "metadata": {},
   "source": [
    "**Q11:** Estimate the regression equation you specified above and show the regression output."
   ]
  },
  {
   "cell_type": "markdown",
   "metadata": {},
   "source": [
    "## Part 5: Regression Analysis:"
   ]
  },
  {
   "cell_type": "code",
   "execution_count": 33,
   "metadata": {},
   "outputs": [
    {
     "name": "stdout",
     "output_type": "stream",
     "text": [
      "                               OLS Regression Results                              \n",
      "===================================================================================\n",
      "Dep. Variable:     total_cases_per_million   R-squared:                       0.153\n",
      "Model:                                 OLS   Adj. R-squared:                  0.147\n",
      "Method:                      Least Squares   F-statistic:                     25.60\n",
      "Date:                     Tue, 29 Sep 2020   Prob (F-statistic):           1.28e-06\n",
      "Time:                             18:54:01   Log-Likelihood:                -1200.6\n",
      "No. Observations:                      144   AIC:                             2405.\n",
      "Df Residuals:                          142   BIC:                             2411.\n",
      "Df Model:                                1                                         \n",
      "Covariance Type:                 nonrobust                                         \n",
      "==============================================================================\n",
      "                 coef    std err          t      P>|t|      [0.025      0.975]\n",
      "------------------------------------------------------------------------------\n",
      "Intercept    132.6688    130.462      1.017      0.311    -125.231     390.568\n",
      "corruption  4481.8950    885.829      5.060      0.000    2730.778    6233.012\n",
      "==============================================================================\n",
      "Omnibus:                       88.454   Durbin-Watson:                   1.885\n",
      "Prob(Omnibus):                  0.000   Jarque-Bera (JB):              403.829\n",
      "Skew:                           2.338   Prob(JB):                     2.04e-88\n",
      "Kurtosis:                       9.741   Cond. No.                         10.6\n",
      "==============================================================================\n",
      "\n",
      "Warnings:\n",
      "[1] Standard Errors assume that the covariance matrix of the errors is correctly specified.\n"
     ]
    }
   ],
   "source": [
    "import statsmodels.formula.api as sm\n",
    "result_tw = sm.ols(formula = 'total_cases_per_million ~ corruption', data=final_table).fit()\n",
    "print(result_tw.summary())"
   ]
  },
  {
   "cell_type": "markdown",
   "metadata": {},
   "source": [
    "**Regression Equation:** \n",
    "     \n",
    "         Y = 132.6691335081763 + (4481.892413086443 * X)"
   ]
  },
  {
   "cell_type": "markdown",
   "metadata": {},
   "source": [
    "**Q12:** What do the results in the regression output tell you? Interpret the coefficient, p-value, and confidence interval for your independent variable (you don't have to do the intercept) and the $R^2$."
   ]
  },
  {
   "cell_type": "markdown",
   "metadata": {},
   "source": [
    "#### Coefficient Interpretation:"
   ]
  },
  {
   "cell_type": "code",
   "execution_count": 34,
   "metadata": {},
   "outputs": [
    {
     "name": "stdout",
     "output_type": "stream",
     "text": [
      "An increase by 1 in perceived corruption in a country is associated with a 4481.89495988584 increase in the total cases of COVID-19 per million.\n",
      "\n",
      "Given the smaller scale used to indicate the perceived corruption score (the vast majority of the countries had a score between 0.0 and 0.4), it might be more helpful to think of it in these terms:\n",
      "\n",
      "An increase of 0.1 in the perceived corruption score is associated with a 448.189495988584 increase in the total cases of COVID-19 per million. Given that larger 'corruption' scores indicate less perceived corruption in a country this suggest that when the 'corruption' score increases (i.e. there is less corruption ) this is associated with more COVID-19 cases per million\n"
     ]
    }
   ],
   "source": [
    "val = result_tw.params[\"corruption\"]\n",
    "print(f\"An increase by 1 in perceived corruption in a country is associated with a {val} increase in the total cases of COVID-19 per million.\")\n",
    "print()\n",
    "print(\"Given the smaller scale used to indicate the perceived corruption score (the vast majority of the countries had a score between 0.0 and 0.4), it might be more helpful to think of it in these terms:\")\n",
    "print()\n",
    "print(\"An increase of 0.1 in the perceived corruption score is associated with a\", val/10, \"increase in the total cases of COVID-19 per million. Given that larger 'corruption' scores indicate less perceived corruption in a country this suggest that when the 'corruption' score increases (i.e. there is less corruption ) this is associated with more COVID-19 cases per million\")"
   ]
  },
  {
   "cell_type": "markdown",
   "metadata": {},
   "source": [
    "#### P-values:"
   ]
  },
  {
   "cell_type": "code",
   "execution_count": 35,
   "metadata": {},
   "outputs": [
    {
     "data": {
      "text/plain": [
       "1.279012425096685e-06"
      ]
     },
     "execution_count": 35,
     "metadata": {},
     "output_type": "execute_result"
    }
   ],
   "source": [
    "result_tw.pvalues[\"corruption\"]"
   ]
  },
  {
   "cell_type": "code",
   "execution_count": 36,
   "metadata": {},
   "outputs": [
    {
     "data": {
      "text/plain": [
       "'0.000001'"
      ]
     },
     "execution_count": 36,
     "metadata": {},
     "output_type": "execute_result"
    }
   ],
   "source": [
    "\"%f\" % result_tw.pvalues[\"corruption\"]"
   ]
  },
  {
   "cell_type": "markdown",
   "metadata": {},
   "source": [
    "This tells us that, under the conditions of the null hypothesis, there is a 0.0001% chance of getting a test statistic that is as high or higher than what we got for t=5.060 (for our β1). If we **randomly** generate re-samples under the assumptions of the null hypothesis, we expect to quite rarely see values that are as extreme as the number that we got. If we were to use 5% as the cut-off value, then 0.000001<0.05, meaning that we would reject the null in this case. "
   ]
  },
  {
   "cell_type": "markdown",
   "metadata": {},
   "source": [
    "#### Confidence Interval:\n",
    "\n",
    "By looking at the values listed under the [0.025 0.975] header, we find that the 95% confidence interval for β1 is between 2730.778 and 6233.012. This means that, if we randomly re-sampled, we would expect the mean of the samples to lie between these two numbers 95% of the time. A slope of zero between two variables in a regression means no linear relationship, which does not appear to be the case here. We are, again, inclined to reject the null hypothesis. "
   ]
  },
  {
   "cell_type": "markdown",
   "metadata": {},
   "source": [
    "#### R^2:\n",
    "\n",
    "The r^2 value that was generated by the ols function is 0.153. This can be interpreted as meaning that 15.3% of the variation in the total cases of COVID-19 per million is explained by the perceived corruption score ('corruption'). Given the lack of a clear consensus about how to interpret r^2 values, coupled with the fact that we are dealing with an outcome that is likely informed and influenced by many other variables, we could say that this value appears at least somewhat significant. These results, in other words, encourage us to consider other factors that might explain and drive the total COVID-19 cases per million. These factors could be social support, citizens' sense of freedom, governmental structures, as well as health care systems.  "
   ]
  },
  {
   "cell_type": "code",
   "execution_count": 37,
   "metadata": {},
   "outputs": [
    {
     "data": {
      "text/plain": [
       "<matplotlib.axes._subplots.AxesSubplot at 0x1a22d5db10>"
      ]
     },
     "execution_count": 37,
     "metadata": {},
     "output_type": "execute_result"
    },
    {
     "data": {
      "image/png": "[encoded data removed]",
      "text/plain": [
       "<Figure size 432x288 with 1 Axes>"
      ]
     },
     "metadata": {
      "needs_background": "light"
     },
     "output_type": "display_data"
    }
   ],
   "source": [
    "import seaborn as sns\n",
    "sns.regplot(x=\"corruption\", y= \"total_cases_per_million\", data=final_table)"
   ]
  },
  {
   "cell_type": "markdown",
   "metadata": {},
   "source": [
    "**Q13:** Which hypothesis do you reject or fail to reject, and why?"
   ]
  },
  {
   "cell_type": "markdown",
   "metadata": {},
   "source": [
    "It appears reasonable to reject the null hypothesis' notion that the perceived corruption score is not associated with the total number of COVID-10 cases per million in a given country. We fail to reject the alternative hypothesis; in fact, these results favor its argument, namely, that there exists an association between these two variables. More specifically, it appears that they are positively correlated. As corruption scores increase, meaning as the percevied corruption becomes less widespread, the total number of COVID-19 cases per million tend to increase as well. "
   ]
  },
  {
   "cell_type": "markdown",
   "metadata": {},
   "source": [
    "**Q14:** Generate the residual plot and comment on any heteroskedasticity. What does this imply for your inference?"
   ]
  },
  {
   "cell_type": "markdown",
   "metadata": {},
   "source": [
    "**Residual Plot:**"
   ]
  },
  {
   "cell_type": "code",
   "execution_count": 38,
   "metadata": {},
   "outputs": [
    {
     "data": {
      "text/plain": [
       "<matplotlib.axes._subplots.AxesSubplot at 0x1a22dd7290>"
      ]
     },
     "execution_count": 38,
     "metadata": {},
     "output_type": "execute_result"
    },
    {
     "data": {
      "image/png": "[encoded data removed]",
      "text/plain": [
       "<Figure size 432x288 with 1 Axes>"
      ]
     },
     "metadata": {
      "needs_background": "light"
     },
     "output_type": "display_data"
    }
   ],
   "source": [
    "sns.regplot(x='corruption', y=result_tw.resid, data=final_table)"
   ]
  },
  {
   "cell_type": "markdown",
   "metadata": {},
   "source": [
    "While the residual plot shows a seeminly random distribution for the most part, it exhibits a certain degree of heteroscedasticity, when we look at the lower corruption scores (i.e. countries with more corruption); the prediction errors do not appear to be entirely random. It is not completely obvious how many values are above and below zero. However, the prediction of the total number of cases per million on the lower end of the spectrum (low perceived corruption scores) differs. It appears that the model tends to \"underpredict\" more often in this portion, but it should be noted that the residuals tend to be smaller. A slight funnel-like pattern also appears to manifest itself somewhat; the variance corresponding to higher corruption values appears greater than for smaller value. At the end of the day, however, it would be wise to consider other variables in this particular prediction effort. Perhaps other factors are stronger determinants in some situations, while the 'corruption' score is better in other situations..."
   ]
  },
  {
   "cell_type": "markdown",
   "metadata": {},
   "source": [
    "# Part 6: Conclusions"
   ]
  },
  {
   "cell_type": "markdown",
   "metadata": {},
   "source": [
    "**Q15:** What biases might be present in the sample itself that could be affecting the outcome? Discuss at least two sources of bias."
   ]
  },
  {
   "cell_type": "markdown",
   "metadata": {},
   "source": [
    "It should be noted that certain countries have been testing their citizens to a far greater degree than others have. As a consequence, the notion that the total_cases_per_million variable might at least partially be a function of testing prevalence appears entirely within the bounds of possibility, and could be considered an example of survivorship bias; i.e. the variable might fail to take into account, in a reflective sense, COVID-19 victims who simply were not tested, due to their lack of visibility. While the United States, for instance, has been the world leader in terms of total tests performed, it is only represented once amongst the top 400 most active testers (in terms total test per thousand) in the original dataset containing all the entries. Iceland, on the other hand, has been testing its citizen far more systematically and rigorously, when inspected through the lense of proportion. Perhaps the US is, relatively speaking, underrepresented in terms of 'total_cases_per_million'. What we see is what we get, and, unfortunately, we do not get as much as we might like. \n",
    "\n",
    "Another bias that might be at play here is non-response bias; sciencedirect.com explains that \"non-response bias can occur when subjects who refuse to take part in a study, or who drop out before the study can be completed, are systematically different from those who participate\". It is entirely possible that certain people systematically did not want to participate. If then feared retaliation, in one form or anyother, for criticizing your country, then vulnerable people in countries with less freedom and/or more agressive regimes might not participate in these types of questinairres due to fear. That would make their countries appear less corrupt that they are actually perceived as by their citizens. "
   ]
  },
  {
   "cell_type": "markdown",
   "metadata": {},
   "source": [
    "**Q16:** Considering all the work you've done, including the regression output, the results of your hypothesis tests, and any biases present in the data, what conclusions, however tentative, can you draw from your analysis about the relationship between your two variables of interest?"
   ]
  },
  {
   "cell_type": "markdown",
   "metadata": {},
   "source": [
    "While causation should certainly not be inferred on the basis of this investigation, the perceived corruption score **does** seem to capture something interesting, and perhaps seemingly unexpected at first, about a nation's ability (or, perhaps, willingess) to limit outbreaks. The notion that more corruption indicates fewer cases of COVID-19 per million does not appear to be very intuitive, so the argument for why this association deserves more attention is two-fold: 1) the idea that perceptions of corruption have anything to do with pandemic outcomes at all, and 2) the idea that **greater** perceived corruption appears to indicate **fewer** cases of COVID-19 per million). The case for an association is clear, but the need for an incorporation of more variables into this model appears necessary and appropriate. Ultimately, the presence of a link between perceived corruption scores and health outcomes during pandemics in a given country remains conceivable. Although we can not say much about causation in this case, it appears reasonable to view a link of this type as indirect in nature. However, given the great number of factors that typically generate macro-scale outcomes in social settings, the correlation of ~0.39 and inspection of the data under the null hypothesis, this model remains compelling, but is, most likely, incomplete. "
   ]
  },
  {
   "cell_type": "markdown",
   "metadata": {},
   "source": [
    "**Q17:** What is your analysis’s greatest weakness? In other words, what are the best reasons to be cautious about what we can learn from it?"
   ]
  },
  {
   "cell_type": "markdown",
   "metadata": {},
   "source": [
    "A little bird recently proclaimed on national television that \"models are only as good as the assumptions that we put into them\", in response to a question concerning the utility of statistical models attempting to predict the progression of COVID-19. That bird may or may not have been Mr. Fauci - a man of his time, yet timeless. The same logic can, and should, be extended to this instance. In the construction of this study, as well as the respective datasets, assumptions were made at multiple levels.\n",
    "\n",
    "As was pointed out in the answer to Q15, our prediction hinges on the assumption that the total_cases_per_million variable reasonably reflects the prevalence of COVID-19 cases. An argument in favor of this proposition can be made just as easily as an argument against it. We might get a better sense as to which direction the truth lies if more countries begin to follow in the footsteps of South Korea and Denmark; the latter plans to implement randomized testing, in their efforts to paint a broader, more truthful picture of this pandemic's reach.\n",
    "\n",
    "Likewise, the subjectivity that went into the formulation of the \"corruption\" variable, along with the people whom contributed their answers and data, warrants concern. The actual corruption might be greater or smaller than the citizen's concept of it, and might also be mistaken for poor social institutions. If the educational system in a country is on the lower end, that might be a product of poor policies, rather than corruption, and it could be difficult to navigate this delicate distinction. Furthermore, given that we can not distinguish political corruption from business-related corruption, our inference should be limited to what we know: that this **likely** is a semi-reflection of what is really going on, as opposed to a true reflection of corruption. The same should be considered when looking at the COVID-19 numbers: it only partially reflects the true number of cases per million in a given country. "
   ]
  },
  {
   "cell_type": "code",
   "execution_count": null,
   "metadata": {},
   "outputs": [],
   "source": []
  }
 ],
 "metadata": {
  "kernelspec": {
   "display_name": "Python 3",
   "language": "python",
   "name": "python3"
  },
  "language_info": {
   "codemirror_mode": {
    "name": "ipython",
    "version": 3
   },
   "file_extension": ".py",
   "mimetype": "text/x-python",
   "name": "python",
   "nbconvert_exporter": "python",
   "pygments_lexer": "ipython3",
   "version": "3.7.6"
  }
 },
 "nbformat": 4,
 "nbformat_minor": 4
}
